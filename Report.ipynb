{
 "cells": [
  {
   "cell_type": "markdown",
   "id": "113cc74d",
   "metadata": {},
   "source": [
    "# **ServiceTitan Internship Task Report**"
   ]
  },
  {
   "cell_type": "code",
   "execution_count": 1,
   "id": "d1c9498d",
   "metadata": {},
   "outputs": [],
   "source": [
    "import pandas as pd\n",
    "import pickle\n",
    "from pprint import pprint\n",
    "from collections import Counter\n",
    "from CustomerDataExt import CustomerDataExtractor"
   ]
  },
  {
   "cell_type": "markdown",
   "id": "e2beae6b",
   "metadata": {},
   "source": [
    "## **1. EDA** "
   ]
  },
  {
   "cell_type": "code",
   "execution_count": 2,
   "id": "e381441a",
   "metadata": {},
   "outputs": [
    {
     "name": "stdout",
     "output_type": "stream",
     "text": [
      "Total customers: 50\n",
      "Sample customer record keys: ['id', 'name', 'registration_date', 'orders']\n",
      "\n",
      "Example customer record:\n",
      "{'id': 1,\n",
      " 'name': 'Customer 1',\n",
      " 'orders': [{'items': [],\n",
      "             'order_date': '2024-02-27 21:24:16',\n",
      "             'order_id': 84,\n",
      "             'order_total_value': 0,\n",
      "             'shipping_address': '840 Main St, City 8'},\n",
      "            {'items': [{'category': 4,\n",
      "                        'item_id': 1,\n",
      "                        'price': 52.7,\n",
      "                        'product_name': 'Item 1 for Order 2',\n",
      "                        'quantity': 2},\n",
      "                       {'category': 5,\n",
      "                        'item_id': 2,\n",
      "                        'price': 498.45,\n",
      "                        'product_name': 'Item 2 for Order 2',\n",
      "                        'quantity': 5},\n",
      "                       {'category': 5,\n",
      "                        'item_id': 3,\n",
      "                        'price': 168.15,\n",
      "                        'product_name': 'Item 3 for Order 2',\n",
      "                        'quantity': 1}],\n",
      "             'order_date': '2025-05-03 08:09:20',\n",
      "             'order_id': None,\n",
      "             'order_total_value': 2765.8,\n",
      "             'shipping_address': '533 Main St, City 9'},\n",
      "            {'items': [{'category': 1,\n",
      "                        'item_id': 1,\n",
      "                        'price': '$377.96',\n",
      "                        'product_name': 'Item 1 for Order 3',\n",
      "                        'quantity': 1}],\n",
      "             'order_date': '2023-09-06 00:42:50',\n",
      "             'order_id': 3,\n",
      "             'order_total_value': 0,\n",
      "             'shipping_address': '588 Main St, City 3'}],\n",
      " 'registration_date': '2022-12-31 04:19:19'}\n"
     ]
    }
   ],
   "source": [
    "with open('data/customer_orders.pkl', 'rb') as f:\n",
    "    customers = pickle.load(f)\n",
    "\n",
    "print(f\"Total customers: {len(customers)}\")\n",
    "print(\"Sample customer record keys:\", list(customers[0].keys()))\n",
    "print(\"\\nExample customer record:\")\n",
    "pprint(customers[0])"
   ]
  },
  {
   "cell_type": "code",
   "execution_count": 3,
   "id": "59ff84eb",
   "metadata": {},
   "outputs": [
    {
     "name": "stdout",
     "output_type": "stream",
     "text": [
      "\n",
      "Missing top‐level fields: {'id': 0, 'name': 0, 'registration_date': 1, 'orders': 9}\n"
     ]
    }
   ],
   "source": [
    "# Top‐level missing values\n",
    "top_fields = ['id', 'name', 'registration_date', 'orders']\n",
    "missing_top = {\n",
    "    field: sum(1 for c in customers if field not in c or c[field] in (None, '', []))\n",
    "    for field in top_fields\n",
    "}\n",
    "print(\"\\nMissing top‐level fields:\", missing_top)"
   ]
  },
  {
   "cell_type": "code",
   "execution_count": 4,
   "id": "e64d4697",
   "metadata": {},
   "outputs": [
    {
     "name": "stdout",
     "output_type": "stream",
     "text": [
      "\n",
      "Orders per customer summary:\n",
      "count    50.000000\n",
      "mean      1.980000\n",
      "std       1.285556\n",
      "min       0.000000\n",
      "25%       1.000000\n",
      "50%       2.000000\n",
      "75%       3.000000\n",
      "max       4.000000\n",
      "dtype: float64\n"
     ]
    }
   ],
   "source": [
    "# Orders per customer\n",
    "orders_per_customer = [len(c.get('orders', [])) for c in customers]\n",
    "print(\"\\nOrders per customer summary:\")\n",
    "print(pd.Series(orders_per_customer).describe())"
   ]
  },
  {
   "cell_type": "code",
   "execution_count": 5,
   "id": "0d9ea1e6",
   "metadata": {},
   "outputs": [
    {
     "name": "stdout",
     "output_type": "stream",
     "text": [
      "\n",
      "Items per order summary:\n",
      "count    99.000000\n",
      "mean      2.000000\n",
      "std       1.789995\n",
      "min       0.000000\n",
      "25%       0.000000\n",
      "50%       2.000000\n",
      "75%       4.000000\n",
      "max       5.000000\n",
      "dtype: float64\n"
     ]
    }
   ],
   "source": [
    "# Items per order\n",
    "items_per_order = [\n",
    "    len(o.get('items', []))\n",
    "    for c in customers for o in c.get('orders', [])\n",
    "]\n",
    "print(\"\\nItems per order summary:\")\n",
    "print(pd.Series(items_per_order).describe())"
   ]
  },
  {
   "cell_type": "code",
   "execution_count": 6,
   "id": "0b1b6854",
   "metadata": {},
   "outputs": [
    {
     "name": "stdout",
     "output_type": "stream",
     "text": [
      "\n",
      "Missing order‐level fields: {'order_id': 5, 'order_date': 2, 'shipping_address': 0, 'items': 30}\n"
     ]
    }
   ],
   "source": [
    "# Order‐level missing values\n",
    "order_fields = ['order_id', 'order_date', 'shipping_address', 'items']\n",
    "missing_orders = {\n",
    "    field: sum(\n",
    "        1 for c in customers for o in c.get('orders', [])\n",
    "        if field not in o or o[field] in (None, '', [])\n",
    "    )\n",
    "    for field in order_fields\n",
    "}\n",
    "print(\"\\nMissing order‐level fields:\", missing_orders)"
   ]
  },
  {
   "cell_type": "code",
   "execution_count": 7,
   "id": "46aa0a91",
   "metadata": {},
   "outputs": [
    {
     "name": "stdout",
     "output_type": "stream",
     "text": [
      "\n",
      "Missing item‐level fields: {'item_id': 15, 'product_name': 0, 'category': 0, 'price': 2, 'quantity': 0}\n"
     ]
    }
   ],
   "source": [
    "# Item‐level missing values\n",
    "item_fields = ['item_id', 'product_name', 'category', 'price', 'quantity']\n",
    "missing_items = {\n",
    "    field: sum(\n",
    "        1 for c in customers\n",
    "          for o in c.get('orders', [])\n",
    "          for item in o.get('items', [])\n",
    "        if field not in item or item[field] is None\n",
    "    )\n",
    "    for field in item_fields\n",
    "}\n",
    "print(\"\\nMissing item‐level fields:\", missing_items)"
   ]
  },
  {
   "cell_type": "code",
   "execution_count": 8,
   "id": "37a91971",
   "metadata": {},
   "outputs": [
    {
     "name": "stdout",
     "output_type": "stream",
     "text": [
      "\n",
      "Top 10 categories:\n",
      "[(1, 36), (4, 28), (5, 27), (0, 27), (2, 26), (3, 20), ('home goods', 11), (99, 9), (' Electronics ', 4), ('Misc Item', 3)]\n"
     ]
    }
   ],
   "source": [
    "# Distribution of product categories\n",
    "all_categories = [\n",
    "    item['category']\n",
    "    for c in customers\n",
    "      for o in c.get('orders', [])\n",
    "      for item in o.get('items', [])\n",
    "    if 'category' in item\n",
    "]\n",
    "print(\"\\nTop 10 categories:\")\n",
    "print(Counter(all_categories).most_common(10))"
   ]
  },
  {
   "cell_type": "markdown",
   "id": "479087e7",
   "metadata": {},
   "source": [
    "## **2. Dealing with Missing Values**"
   ]
  },
  {
   "cell_type": "code",
   "execution_count": 9,
   "id": "dbbcbe16",
   "metadata": {},
   "outputs": [
    {
     "name": "stdout",
     "output_type": "stream",
     "text": [
      "✅ Clean complete — saved to customer_orders_cleaned.pkl\n"
     ]
    }
   ],
   "source": [
    "for cust in customers:\n",
    "    # Top‐level\n",
    "    cust.setdefault('id', None)\n",
    "    cust.setdefault('name', None)\n",
    "    if cust.get('registration_date') is None:\n",
    "        cust['registration_date'] = None\n",
    "    if cust.get('orders') is None:\n",
    "        cust['orders'] = []\n",
    "\n",
    "    for order in cust['orders']:\n",
    "        # mark missing IDs/dates as None\n",
    "        if order.get('order_id') is None:\n",
    "            order['order_id'] = None\n",
    "        if order.get('order_date') is None:\n",
    "            order['order_date'] = None\n",
    "        if order.get('shipping_address') is None:\n",
    "            order['shipping_address'] = None\n",
    "        if order.get('items') is None:\n",
    "            order['items'] = []\n",
    "\n",
    "        for item in order['items']:\n",
    "            # string fields: None → pandas <NA> in string dtype\n",
    "            item.setdefault('item_id',      None)\n",
    "            item.setdefault('product_name', None)\n",
    "            item.setdefault('category',     None)\n",
    "            # numeric fields: keep None\n",
    "            if item.get('price') is None:\n",
    "                item['price'] = None\n",
    "            if item.get('quantity') is None:\n",
    "                item['quantity'] = None\n",
    "\n",
    "# 3. Save cleaned data\n",
    "with open('data/customer_orders_cleaned.pkl', 'wb') as f:\n",
    "    pickle.dump(customers, f)\n",
    "\n",
    "print(\"✅ Clean complete — saved to customer_orders_cleaned.pkl\") "
   ]
  },
  {
   "cell_type": "markdown",
   "id": "f188a241",
   "metadata": {},
   "source": [
    "## **3. Customer Data Extractor** "
   ]
  },
  {
   "cell_type": "code",
   "execution_count": 10,
   "id": "fad177e7",
   "metadata": {},
   "outputs": [
    {
     "name": "stdout",
     "output_type": "stream",
     "text": [
      "customer_id                              Int64\n",
      "customer_name                   string[python]\n",
      "registration_date               datetime64[ns]\n",
      "is_vip                                 boolean\n",
      "order_id                                 Int64\n",
      "order_date                      datetime64[ns]\n",
      "product_id                               Int64\n",
      "product_name                    string[python]\n",
      "unit_price                             float64\n",
      "item_quantity                            Int64\n",
      "total_item_price                       float64\n",
      "category                        string[python]\n",
      "total_order_value_percentage           float64\n",
      "dtype: object\n"
     ]
    },
    {
     "data": {
      "text/html": [
       "<div>\n",
       "<style scoped>\n",
       "    .dataframe tbody tr th:only-of-type {\n",
       "        vertical-align: middle;\n",
       "    }\n",
       "\n",
       "    .dataframe tbody tr th {\n",
       "        vertical-align: top;\n",
       "    }\n",
       "\n",
       "    .dataframe thead th {\n",
       "        text-align: right;\n",
       "    }\n",
       "</style>\n",
       "<table border=\"1\" class=\"dataframe\">\n",
       "  <thead>\n",
       "    <tr style=\"text-align: right;\">\n",
       "      <th></th>\n",
       "      <th>customer_id</th>\n",
       "      <th>customer_name</th>\n",
       "      <th>registration_date</th>\n",
       "      <th>is_vip</th>\n",
       "      <th>order_id</th>\n",
       "      <th>order_date</th>\n",
       "      <th>product_id</th>\n",
       "      <th>product_name</th>\n",
       "      <th>unit_price</th>\n",
       "      <th>item_quantity</th>\n",
       "      <th>total_item_price</th>\n",
       "      <th>category</th>\n",
       "      <th>total_order_value_percentage</th>\n",
       "    </tr>\n",
       "  </thead>\n",
       "  <tbody>\n",
       "    <tr>\n",
       "      <th>0</th>\n",
       "      <td>1</td>\n",
       "      <td>Customer 1</td>\n",
       "      <td>2022-12-31 04:19:19</td>\n",
       "      <td>True</td>\n",
       "      <td>2</td>\n",
       "      <td>2025-05-03 08:09:20</td>\n",
       "      <td>1</td>\n",
       "      <td>Item 1 for Order 2</td>\n",
       "      <td>52.70</td>\n",
       "      <td>2</td>\n",
       "      <td>105.40</td>\n",
       "      <td>Home Goods</td>\n",
       "      <td>3.810832</td>\n",
       "    </tr>\n",
       "    <tr>\n",
       "      <th>1</th>\n",
       "      <td>1</td>\n",
       "      <td>Customer 1</td>\n",
       "      <td>2022-12-31 04:19:19</td>\n",
       "      <td>True</td>\n",
       "      <td>2</td>\n",
       "      <td>2025-05-03 08:09:20</td>\n",
       "      <td>2</td>\n",
       "      <td>Item 2 for Order 2</td>\n",
       "      <td>498.45</td>\n",
       "      <td>5</td>\n",
       "      <td>2492.25</td>\n",
       "      <td>Misc</td>\n",
       "      <td>90.109552</td>\n",
       "    </tr>\n",
       "    <tr>\n",
       "      <th>2</th>\n",
       "      <td>1</td>\n",
       "      <td>Customer 1</td>\n",
       "      <td>2022-12-31 04:19:19</td>\n",
       "      <td>True</td>\n",
       "      <td>2</td>\n",
       "      <td>2025-05-03 08:09:20</td>\n",
       "      <td>3</td>\n",
       "      <td>Item 3 for Order 2</td>\n",
       "      <td>168.15</td>\n",
       "      <td>1</td>\n",
       "      <td>168.15</td>\n",
       "      <td>Misc</td>\n",
       "      <td>6.079615</td>\n",
       "    </tr>\n",
       "    <tr>\n",
       "      <th>3</th>\n",
       "      <td>1</td>\n",
       "      <td>Customer 1</td>\n",
       "      <td>2022-12-31 04:19:19</td>\n",
       "      <td>True</td>\n",
       "      <td>3</td>\n",
       "      <td>2023-09-06 00:42:50</td>\n",
       "      <td>1</td>\n",
       "      <td>Item 1 for Order 3</td>\n",
       "      <td>377.96</td>\n",
       "      <td>1</td>\n",
       "      <td>377.96</td>\n",
       "      <td>Electronics</td>\n",
       "      <td>100.000000</td>\n",
       "    </tr>\n",
       "    <tr>\n",
       "      <th>4</th>\n",
       "      <td>2</td>\n",
       "      <td>Customer 2</td>\n",
       "      <td>2022-05-27 00:23:28</td>\n",
       "      <td>False</td>\n",
       "      <td>5</td>\n",
       "      <td>2024-08-28 19:37:56</td>\n",
       "      <td>1</td>\n",
       "      <td>Item 1 for Order 5</td>\n",
       "      <td>342.68</td>\n",
       "      <td>2</td>\n",
       "      <td>685.36</td>\n",
       "      <td>Misc</td>\n",
       "      <td>30.523255</td>\n",
       "    </tr>\n",
       "  </tbody>\n",
       "</table>\n",
       "</div>"
      ],
      "text/plain": [
       "   customer_id customer_name   registration_date  is_vip  order_id  \\\n",
       "0            1    Customer 1 2022-12-31 04:19:19    True         2   \n",
       "1            1    Customer 1 2022-12-31 04:19:19    True         2   \n",
       "2            1    Customer 1 2022-12-31 04:19:19    True         2   \n",
       "3            1    Customer 1 2022-12-31 04:19:19    True         3   \n",
       "4            2    Customer 2 2022-05-27 00:23:28   False         5   \n",
       "\n",
       "           order_date  product_id        product_name  unit_price  \\\n",
       "0 2025-05-03 08:09:20           1  Item 1 for Order 2       52.70   \n",
       "1 2025-05-03 08:09:20           2  Item 2 for Order 2      498.45   \n",
       "2 2025-05-03 08:09:20           3  Item 3 for Order 2      168.15   \n",
       "3 2023-09-06 00:42:50           1  Item 1 for Order 3      377.96   \n",
       "4 2024-08-28 19:37:56           1  Item 1 for Order 5      342.68   \n",
       "\n",
       "   item_quantity  total_item_price     category  total_order_value_percentage  \n",
       "0              2            105.40   Home Goods                      3.810832  \n",
       "1              5           2492.25         Misc                     90.109552  \n",
       "2              1            168.15         Misc                      6.079615  \n",
       "3              1            377.96  Electronics                    100.000000  \n",
       "4              2            685.36         Misc                     30.523255  "
      ]
     },
     "execution_count": 10,
     "metadata": {},
     "output_type": "execute_result"
    }
   ],
   "source": [
    "extractor = CustomerDataExtractor(\n",
    "    \"data/customer_orders_cleaned.pkl\",\n",
    "    \"data/vip_customers.txt\"\n",
    ")\n",
    "df = extractor.extract()\n",
    "print(df.dtypes)\n",
    "df.head()"
   ]
  },
  {
   "cell_type": "markdown",
   "id": "170c017d",
   "metadata": {},
   "source": [
    "## **END**"
   ]
  }
 ],
 "metadata": {
  "kernelspec": {
   "display_name": ".venv",
   "language": "python",
   "name": "python3"
  },
  "language_info": {
   "codemirror_mode": {
    "name": "ipython",
    "version": 3
   },
   "file_extension": ".py",
   "mimetype": "text/x-python",
   "name": "python",
   "nbconvert_exporter": "python",
   "pygments_lexer": "ipython3",
   "version": "3.12.6"
  }
 },
 "nbformat": 4,
 "nbformat_minor": 5
}
